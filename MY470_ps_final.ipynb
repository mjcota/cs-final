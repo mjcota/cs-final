{
 "cells": [
  {
   "cell_type": "markdown",
   "metadata": {
    "slideshow": {
     "slide_type": "slide"
    }
   },
   "source": [
    "### MY470 Computer Programming\n",
    "\n",
    "### Final Assignment, AT 2024\n",
    "\n",
    "#### \\*\\*\\* Due 12:00 noon on Monday, January 20, 2025 \\*\\*\\*"
   ]
  },
  {
   "cell_type": "markdown",
   "metadata": {
    "slideshow": {
     "slide_type": "slide"
    }
   },
   "source": [
    "---\n",
    "## The homophily and social contagion of cheating\n",
    "\n",
    "The final assignment asks you to use the computational thinking and programming skills you learned in the course to answer an empirical social science question. You are expected to apply the best practices and theoretical concepts we covered in the course to produce a program that not only returns the correct output but is also legible, modular, and reasonably optimized. The assignment assumes mastery of loops, conditionals, and functions, as well as awareness of issues related to runtime performance.\n",
    "\n",
    "In the assignment, we will study the homophily and social contagion of cheating in the massive multiplayer online game PlayerUnknown's Battlegrounds (PUBG). Cheating in this context means the adoption of unapproved software that gives the player an unfair advantage in the game (e.g. being able to see through walls). \n",
    "\n",
    "Our hypotheses are that cheaters tend to associate with other cheaters but also, players who interact with cheaters become likely to adopt cheating themselves. To provide preliminary evidence for these hypotheses, we will:\n",
    "\n",
    "1. Observe whether cheaters tend to team up with other cheaters more than chance.\n",
    "2. Observe whether players who observe cheaters are likely to become cheaters more than chance.\n",
    "3. Observe whether players who are killed by cheaters are likely to become cheaters more than chance.\n",
    "\n",
    "To test the \"more than chance\" part, we will simulate alternative universes in which the players played the same game but joined a different team or happened to be killed by someone else at a different time. We will then compare how what we observe in the actual data compares to what we would expect in a \"randomized\" world.  \n",
    "\n",
    "**NOTE: You are only allowed to use fundamental Python data types (lists, tuples, dictionaries, etc.) and basic modules (datetime, pickle, deepcopy, itertools, os, etc.) to complete this assignment.** You are not allowed to use advanced data querying and data analysis packages such as pandas, sqlite, networkx, numpy, or similar. We impose this restriction in order to test your grasp of fundamental programming concepts, not your scripting experience with Python libraries from before or from other courses you may be taking. \n",
    "\n",
    "**NOTE: You can use Copilot and similar generative-AI tools. However, you are expected to work on your own.** Hence, you should not discuss or obtain solutions from others (whether current or past students, family members, neighbors, paid consultants, essay farm workers, volunteers on StackOverflow, etc.). \n",
    "\n",
    "#### Hints\n",
    "\n",
    "Although this assignment is quite streamlined, imagine that the tasks here are part of a larger project. How would you structure your program if in the future you may need to use a different dataset with similar structure, manipulate the data differently, add additional analyses, or modify the focus of the current analysis?  \n",
    "\n",
    "Keep different data manipulations in separate functions/methods and group related functions/classes in separate `.py` files. Name your modules in an informative way based on their functionality. Do not use names that refer to the problem set outline here."
   ]
  },
  {
   "cell_type": "markdown",
   "metadata": {
    "slideshow": {
     "slide_type": "slide"
    }
   },
   "source": [
    "### Data\n",
    "\n",
    "You will find the data in the [data](https://github.com/lse-my470/data) repository for the course. Any time when you refer to the data in your code, please use a relative path such as `'../data/filename.txt'` so that we can test your submission with our own copy of the data without having to modify your code.\n",
    "\n",
    "The data were collected by Jinny Kim (LSE MSc ASDS '19). The repository contains the following files:\n",
    "\n",
    "* `cheaters.txt` – contains cheaters who played between March 1 and March 10, 2019\n",
    "    1. player account id\n",
    "    2. estimated date when the player started cheating\n",
    "    3. date when the player's account was banned due to cheating\n",
    "\n",
    "\n",
    "* `kills.txt` – contains the killings done in 6,000 randomly selected matches played between March 1 and March 10, 2019\n",
    "    1. match id \n",
    "    2. account id of the killer\n",
    "    3. account id of the player who got killed\n",
    "    4. time when the kill happened\n",
    " \n",
    " \n",
    "* `team_ids.txt` – contains the team ids for players in 5,419 team-play matches in the same period. If a match from the kills.txt file does not appear in these data, we will assume that it was in single-player mode.  \n",
    "    1. match id \n",
    "    2. player account id\n",
    "    3. team id in match\n",
    "\n",
    "### Output\n",
    "\n",
    "The tasks ask you to output actual counts and expecteded counts (mean with 95% confidence interval). To estimate the 95% conifdence intervals, ignore the small sample size and the fact that we are dealing with count data, and simply use the approximation: 95% CI $= \\mu \\pm 1.96 \\frac{\\sigma}{\\sqrt{n}}$, where $\\mu$ is the mean and $\\sigma$ the standard deviation of the counts in the $n=20$ randomizations. You are free to use `statsmodels` or `numpy` to calculate these values.\n",
    "\n",
    "\n",
    "#### Hints\n",
    "\n",
    "When writing your code, test it on a small \"toy dataset\", instead of the entire data. This way, you won't need to wait for minutes/hours just to find out that you have a syntax error!\n",
    "\n",
    "If the randomization is time consuming, it may be worth finding a way to save the data you generate on hard disk so that you don't need to run the randomization again and again. If you decide to do so, please write your code to save any such files with processed data in the directory where this file resides. Do NOT save any data in `../data/`!\n",
    "\n",
    "If you need to save any new data, think carefully about the most efficient way, both in terms of time and space, to save them. Your code will be evaluated on both time and space efficiency."
   ]
  },
  {
   "cell_type": "markdown",
   "metadata": {},
   "source": [
    "## Import and run your code here\n",
    "\n",
    "Keep your code in separate `.py` files and then import functions, etc. in the code cell below. In the subsequent cells, call the functions/methods you need to conduct the requested analyses. We should be able to run all cells here to calculate again the results and get the requested output, without having to modify your code in any way. "
   ]
  },
  {
   "cell_type": "code",
   "execution_count": 1,
   "metadata": {},
   "outputs": [],
   "source": [
    "import output\n",
    "import simulations"
   ]
  },
  {
   "cell_type": "code",
   "execution_count": 2,
   "metadata": {},
   "outputs": [],
   "source": [
    "# File paths\n",
    "FPATH_teams = '../data/team_ids.txt'\n",
    "FPATH_cheaters = '../data/cheaters.txt'\n",
    "FPATH_kills = '../data/kills.txt'\n",
    "\n",
    "# Load data\n",
    "teams_data, cheaters_data, kills_data = output.prepare_data(FPATH_teams, FPATH_cheaters, FPATH_kills)\n"
   ]
  },
  {
   "cell_type": "markdown",
   "metadata": {},
   "source": [
    "### 1. Do cheaters team up?\n",
    "\n",
    "Use the files `cheaters.txt` and `team_ids.txt` to estimate how often cheaters (regardless of when exactly they started cheating) end up on the same team. Your output should say how many teams have 0, 1, 2, 3, or 4 cheaters.\n",
    "\n",
    "Now, randomly shuffle the team ids among the players in a match. Repeat this 20 times and estimate the expected counts as before. Output the mean and the 95% confidence intervals for the expected counts. \n",
    "\n",
    "*Optional: Conclude in a short comment what you observe. This reflection is optional and will not be marked.*"
   ]
  },
  {
   "cell_type": "code",
   "execution_count": 3,
   "metadata": {},
   "outputs": [
    {
     "name": "stdout",
     "output_type": "stream",
     "text": [
      "1.1 Cheaters per team:\n",
      "  0 cheater(s): 170782\n",
      "  1 cheater(s): 3199\n",
      "  2 cheater(s): 182\n",
      "  3 cheater(s): 9\n",
      "  4 cheater(s): 2\n",
      "1.2 Simulation Results:\n",
      "  0 cheater(s):\n",
      "    Mean: 170611.0\n",
      "    Standard Deviation: 4.7\n",
      "    95% Confidence Interval: [170608.9, 170613.1]\n",
      "  1 cheater(s):\n",
      "    Mean: 3528.2\n",
      "    Standard Deviation: 9.4\n",
      "    95% Confidence Interval: [3524.1, 3532.3]\n",
      "  2 cheater(s):\n",
      "    Mean: 34.5\n",
      "    Standard Deviation: 4.7\n",
      "    95% Confidence Interval: [32.4, 36.6]\n",
      "  3 cheater(s):\n",
      "    Mean: 0.2\n",
      "    Standard Deviation: 0.4\n",
      "    95% Confidence Interval: [0.0, 0.4]\n",
      "  4 cheater(s):\n",
      "    Mean: 0.0\n",
      "    Standard Deviation: 0.0\n",
      "    95% Confidence Interval: [0.0, 0.0]\n"
     ]
    }
   ],
   "source": [
    "# Answer 1\n",
    "real_cheater_counts, ci_sim_cheater_counts = output.answer_1(teams_data, cheaters_data)\n",
    "\n",
    "print(\"1.1 Cheaters per team:\")\n",
    "for category, count in real_cheater_counts.items():\n",
    "    print(f\"  {category} cheater(s): {count}\")\n",
    "\n",
    "print(\"1.2 Simulation Results:\")\n",
    "for category, stats in ci_sim_cheater_counts.items():\n",
    "    print(f\"  {category} cheater(s):\")\n",
    "    print(f\"    Mean: {stats['mean']}\")\n",
    "    print(f\"    Standard Deviation: {stats['std_dev']}\")\n",
    "    print(f\"    95% Confidence Interval: [{stats['ci_lower']}, {stats['ci_upper']}]\")"
   ]
  },
  {
   "cell_type": "markdown",
   "metadata": {},
   "source": [
    "### 2. Do victims of cheating start cheating?\n",
    "\n",
    "Use the files `cheaters.txt` and `kills.txt` to count how many players got killed by an active cheater on at least one occasion and then started cheating. Specifically, we are interested in situations where:\n",
    "\n",
    "1. Player B has started cheating but player A is not cheating.\n",
    "2. Player B kills player A.\n",
    "3. At some point afterwards, player A starts cheating.\n",
    "\n",
    "Output the count in the data. \n",
    "\n",
    "Then, simulate alternative worlds in which everything is the same but the events took somewhat different sequence. To do so, randomize within a game, keeping the timing and structure of interactions but shuffling the player ids. Generate 20 randomizations like this and estimate the expected count of victims of cheating who start cheating as before. Output the mean and the 95% confidence interval for the expected count in these randomized worlds.\n",
    "\n",
    "*Optional: Conclude in a short comment what you observe. This reflection is optional and will not be marked.*\n",
    "\n",
    "#### Hint\n",
    "\n",
    "Starting time of cheating is estimated as a date, so assume that a player cheats on any match that they started playing on that date or afterwards. Use the first kill in a match to determine the match starting date. Thus, if the first kill in the match occurred before midnight of the cheating date but the match ended after midnight, we will assume that the player was not cheating just yet. \n"
   ]
  },
  {
   "cell_type": "code",
   "execution_count": 4,
   "metadata": {},
   "outputs": [
    {
     "name": "stdout",
     "output_type": "stream",
     "text": [
      "2.1 Count of IDs killed by a cheater that became cheaters: 47\n",
      "2.2 Simulation Results:\n",
      "  Mean: 11.2\n",
      "  Standard Deviation: 3.1\n",
      "  95% Confidence Interval: [9.8, 12.6]\n"
     ]
    }
   ],
   "source": [
    "# Precompute randomized kills (shared randomization between Answer 2 and Answer 3)\n",
    "randomized_kills = simulations.randomize_player_ids(kills_data, num_randomizations=20)\n",
    "\n",
    "# Answer 2\n",
    "converted_from_killed, ci_confidence_intervals = output.answer_2(kills_data, cheaters_data, randomized_kills)\n",
    "\n",
    "print(f\"2.1 Count of IDs killed by a cheater that became cheaters: {converted_from_killed}\")\n",
    "print(\n",
    "    \"2.2 Simulation Results:\\n\"\n",
    "    f\"  Mean: {ci_confidence_intervals['mean']}\\n\"\n",
    "    f\"  Standard Deviation: {ci_confidence_intervals['std_dev']}\\n\"\n",
    "    f\"  95% Confidence Interval: [{ci_confidence_intervals['ci_lower']}, {ci_confidence_intervals['ci_upper']}]\"\n",
    ")\n"
   ]
  },
  {
   "cell_type": "markdown",
   "metadata": {},
   "source": [
    "### 3. Do observers of cheating start cheating?\n",
    "\n",
    "Use the files `cheaters.txt` and `kills.txt` to count how many players observed an active cheater on at least one occasion and then started cheating. Cheating players can be recognized because they exhibit abnormal killing patterns. We will assume that player A realizes that player B cheats if:\n",
    "\n",
    "1. Player B has started cheating but player A is not cheating.\n",
    "2. Player B kills at least 3 other players before player A gets killed in the game.\n",
    "3. At some point afterwards, player A starts cheating.\n",
    "\n",
    "Output the count in the data.\n",
    "\n",
    "Then, use the 20 randomizations from Part 2 to estimate the expected count of observers of cheating who start cheating. Output the mean and the 95% confidence interval for the expected count in these randomized worlds.\n",
    "\n",
    "*Optional: Conclude in a short comment what you observe. This reflection is optional and will not be marked.*"
   ]
  },
  {
   "cell_type": "code",
   "execution_count": 5,
   "metadata": {},
   "outputs": [
    {
     "name": "stdout",
     "output_type": "stream",
     "text": [
      "3.1 Count of IDs who observed a cheater that became cheaters: 203\n",
      "3.2 Simulation Results:\n",
      "  Mean: 46.6\n",
      "  Standard Deviation: 6.6\n",
      "  95% Confidence Interval: [43.7, 49.5]\n"
     ]
    }
   ],
   "source": [
    "# Answer 3\n",
    "converted_from_observed, ci_sim_converted_from_observed = output.answer_3(kills_data, cheaters_data, randomized_kills)\n",
    "\n",
    "print(f\"3.1 Count of IDs who observed a cheater that became cheaters: {converted_from_observed}\")\n",
    "print(\n",
    "    \"3.2 Simulation Results:\\n\"\n",
    "    f\"  Mean: {ci_sim_converted_from_observed['mean']}\\n\"\n",
    "    f\"  Standard Deviation: {ci_sim_converted_from_observed['std_dev']}\\n\"\n",
    "    f\"  95% Confidence Interval: [{ci_sim_converted_from_observed['ci_lower']}, {ci_sim_converted_from_observed['ci_upper']}]\"\n",
    ")"
   ]
  },
  {
   "cell_type": "markdown",
   "metadata": {},
   "source": [
    "---\n",
    "\n",
    "### Evaluation\n",
    "\n",
    "| Aspect         | Mark     | Comment   \n",
    "|:--------------:|:--------:|:----------------------\n",
    "| Code runs and attempts tasks     |   /20    |              \n",
    "| Output 1       |   /10    | \n",
    "| Output 2       |   /10    | \n",
    "| Output 3       |   /10    | \n",
    "| Legibility     |   /10    | \n",
    "| Modularity     |   /10    | \n",
    "| Optimization   |   /30    | \n",
    "| **Total**      |**/100**  | \n"
   ]
  }
 ],
 "metadata": {
  "kernelspec": {
   "display_name": "Python (mjenv)",
   "language": "python",
   "name": "mjenv"
  },
  "language_info": {
   "codemirror_mode": {
    "name": "ipython",
    "version": 3
   },
   "file_extension": ".py",
   "mimetype": "text/x-python",
   "name": "python",
   "nbconvert_exporter": "python",
   "pygments_lexer": "ipython3",
   "version": "3.12.7"
  }
 },
 "nbformat": 4,
 "nbformat_minor": 2
}
